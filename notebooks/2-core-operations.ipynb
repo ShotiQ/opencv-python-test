{
 "cells": [
  {
   "cell_type": "code",
   "execution_count": 34,
   "metadata": {},
   "outputs": [],
   "source": [
    "import cv2\n",
    "\n",
    "image = cv2.imread('..//assets//bernie.jpg', cv2.IMREAD_COLOR)"
   ]
  },
  {
   "cell_type": "code",
   "execution_count": 35,
   "metadata": {
    "collapsed": true
   },
   "outputs": [],
   "source": [
    "# Show Image Method\n",
    "def show_image(image):\n",
    "    cv2.namedWindow('img', cv2.WINDOW_NORMAL)\n",
    "    cv2.imshow('img', image)\n",
    "    cv2.waitKey(0)\n",
    "    cv2.destroyAllWindows()"
   ]
  },
  {
   "cell_type": "code",
   "execution_count": 36,
   "metadata": {},
   "outputs": [
    {
     "name": "stdout",
     "output_type": "stream",
     "text": [
      "(322, 339, 3)\n",
      "327474\n",
      "uint8\n"
     ]
    }
   ],
   "source": [
    "# Custom crop\n",
    "croped = image[302:(302+322),261:(261+339)]  \n",
    "\n",
    "show_image(croped)\n",
    "print(croped.shape)\n",
    "print(croped.size)\n",
    "print(croped.dtype)"
   ]
  },
  {
   "cell_type": "code",
   "execution_count": 37,
   "metadata": {},
   "outputs": [],
   "source": [
    "mod = image[302:(302+322),261:(261+339)]\n",
    "mod[:,:,0] = 123\n",
    "show_image(image)"
   ]
  },
  {
   "cell_type": "code",
   "execution_count": 38,
   "metadata": {},
   "outputs": [
    {
     "name": "stdout",
     "output_type": "stream",
     "text": [
      "(0, 0, 0, 0)\n"
     ]
    }
   ],
   "source": [
    "#ROI selector\n",
    "image = cv2.imread('..//assets//bernie.jpg', cv2.IMREAD_COLOR)\n",
    "\n",
    "from_center = False\n",
    "region = cv2.selectROI(image, from_center)\n",
    "cv2.waitKey(0)\n",
    "cv2.destroyAllWindows()\n",
    "\n",
    "print(region)"
   ]
  },
  {
   "cell_type": "code",
   "execution_count": 6,
   "metadata": {
    "scrolled": true
   },
   "outputs": [
    {
     "name": "stdout",
     "output_type": "stream",
     "text": [
      "(241, 292, 506, 379)\n"
     ]
    }
   ],
   "source": []
  },
  {
   "cell_type": "code",
   "execution_count": 7,
   "metadata": {},
   "outputs": [],
   "source": [
    "cropped = image[region[1]:region[1]+region[3], region[0]: region[0] +\n",
    "                region[2]]\n",
    "\n",
    "show_image(cropped)\n"
   ]
  },
  {
   "cell_type": "code",
   "execution_count": 8,
   "metadata": {},
   "outputs": [],
   "source": [
    "bernie = cv2.imread('..//assets//bernie.jpg', cv2.IMREAD_COLOR)\n",
    "grayscale_bernie = cv2.cvtColor(bernie, cv2.COLOR_BGR2GRAY)\n",
    "\n",
    "show_image(grayscale_bernie)\n"
   ]
  },
  {
   "cell_type": "code",
   "execution_count": 9,
   "metadata": {},
   "outputs": [],
   "source": [
    "bernie = cv2.imread('..//assets//bernie.jpg', cv2.IMREAD_GRAYSCALE)\n",
    "\n",
    "show_image(bernie)"
   ]
  },
  {
   "cell_type": "code",
   "execution_count": 10,
   "metadata": {
    "collapsed": true
   },
   "outputs": [],
   "source": [
    "bernie = cv2.imread('..//assets//bernie.jpg', cv2.IMREAD_COLOR)\n",
    "hsv_bernie = cv2.cvtColor(bernie, cv2.COLOR_BGR2HSV)\n",
    "show_image(hsv_bernie)"
   ]
  },
  {
   "cell_type": "code",
   "execution_count": 99,
   "metadata": {
    "collapsed": true
   },
   "outputs": [],
   "source": [
    "bernie = cv2.imread('..//assets//bernie.jpg', cv2.IMREAD_COLOR)\n",
    "howie = cv2.imread('..//assets//howie.png', cv2.IMREAD_COLOR)\n",
    "\n",
    "berwie = cv2.add(bernie, howie)\n",
    "\n",
    "show_image(berwie)"
   ]
  },
  {
   "cell_type": "code",
   "execution_count": 100,
   "metadata": {},
   "outputs": [],
   "source": [
    "blended = cv2.addWeighted(bernie, 0.8,howie, 0.2,0)\n",
    "show_image(blended)"
   ]
  },
  {
   "cell_type": "code",
   "execution_count": 115,
   "metadata": {},
   "outputs": [],
   "source": [
    "bigbang = cv2.imread('..//assets//big-bang.jpg', cv2.IMREAD_COLOR)\n",
    "\n",
    "bb_resized = cv2.resize(bigbang, (int(bigbang.shape[1]* 0.25),int(bigbang.shape[1]*0.25)))"
   ]
  },
  {
   "cell_type": "code",
   "execution_count": 116,
   "metadata": {
    "scrolled": true
   },
   "outputs": [
    {
     "name": "stdout",
     "output_type": "stream",
     "text": [
      "(823, 638, 3)\n",
      "(159, 159, 3)\n"
     ]
    }
   ],
   "source": [
    "print(bigbang.shape)\n",
    "print(bb_resized.shape)\n",
    "\n",
    "bb_resized_row, bb_resized_col, bb_resized_chan = bb_resized.shape\n",
    "\n",
    "roi = bernie[0:bb_resized_row, 0:bb_resized_col]\n",
    "\n",
    "show_image(roi)"
   ]
  },
  {
   "cell_type": "code",
   "execution_count": 117,
   "metadata": {
    "collapsed": true
   },
   "outputs": [],
   "source": [
    "# bigbang_gray =  cv2.imread('..//assets/big-bang.jpg', cv2.IMREAD_GRAYSCALE)\n",
    "bigbang_gray = cv2.cvtColor(bb_resized, cv2.COLOR_BGR2GRAY) \n",
    "\n",
    "ret, mask = cv2.threshold(bigbang_gray, 220, 225, cv2.THRESH_BINARY_INV)\n",
    "\n",
    "show_image(mask)"
   ]
  },
  {
   "cell_type": "code",
   "execution_count": 118,
   "metadata": {
    "collapsed": true
   },
   "outputs": [],
   "source": [
    "#inverse mask\n",
    "mask_inv = cv2.bitwise_not(mask)\n",
    "\n",
    "show_image(mask_inv)"
   ]
  },
  {
   "cell_type": "code",
   "execution_count": 119,
   "metadata": {},
   "outputs": [],
   "source": [
    "#merge\n",
    "bernie_bg = cv2.bitwise_and(roi, roi, mask=mask_inv)\n",
    "\n",
    "show_image(bernie_bg)"
   ]
  },
  {
   "cell_type": "code",
   "execution_count": 120,
   "metadata": {},
   "outputs": [],
   "source": [
    "#merge 2\n",
    "bigbang_fg = cv2.bitwise_and(bb_resized, bb_resized, mask=mask)\n",
    "\n",
    "show_image(bigbang_fg)"
   ]
  },
  {
   "cell_type": "code",
   "execution_count": 121,
   "metadata": {},
   "outputs": [],
   "source": [
    "dst = cv2.add(bernie_bg, bigbang_fg)\n",
    "\n",
    "bernie[0:bb_resized_row, 0: bb_resized_col] = dst\n",
    "\n",
    "show_image(bernie)"
   ]
  },
  {
   "cell_type": "code",
   "execution_count": 205,
   "metadata": {},
   "outputs": [
    {
     "name": "stdout",
     "output_type": "stream",
     "text": [
      "(174, 437, 3)\n",
      "(174, 437, 3)\n"
     ]
    }
   ],
   "source": [
    "#Activity\n",
    "\n",
    "portrait = cv2.imread('..//assets//port.jpg', cv2.IMREAD_COLOR)\n",
    "acn = cv2.imread('..//assets//accenture.png', cv2.IMREAD_COLOR)\n",
    "acn_resized = cv2.resize(acn, (int(acn.shape[1]* 1),int(acn.shape[1]*0.4)))\n",
    "\n",
    "acn_resized_row, acn_resized_col, acn_resized_chan = acn_resized.shape\n",
    "roi = portrait[0:acn_resized_row, 0:acn_resized_col]\n",
    "\n",
    "show_image(roi)\n",
    "\n",
    "print(roi.shape)\n",
    "print(acn_resized.shape)"
   ]
  },
  {
   "cell_type": "code",
   "execution_count": 206,
   "metadata": {
    "collapsed": true
   },
   "outputs": [],
   "source": [
    "acn_gray = cv2.cvtColor(acn_resized, cv2.COLOR_BGR2GRAY) \n",
    "\n",
    "ret, mask = cv2.threshold(acn_gray, 220, 255, cv2.THRESH_BINARY_INV)\n",
    "\n",
    "show_image(mask)"
   ]
  },
  {
   "cell_type": "code",
   "execution_count": 207,
   "metadata": {
    "collapsed": true
   },
   "outputs": [],
   "source": [
    "acn_inv = cv2.bitwise_not(mask)\n",
    "\n",
    "show_image(acn_inv)"
   ]
  },
  {
   "cell_type": "code",
   "execution_count": 208,
   "metadata": {},
   "outputs": [],
   "source": [
    "port_bg = cv2.bitwise_and(roi, roi, mask=acn_inv)\n",
    "\n",
    "show_image(port_bg)"
   ]
  },
  {
   "cell_type": "code",
   "execution_count": 209,
   "metadata": {
    "collapsed": true
   },
   "outputs": [],
   "source": [
    "#merge 2\n",
    "acn_fg = cv2.bitwise_and(acn_resized, acn_resized, mask=mask)\n",
    "\n",
    "show_image(acn_fg)"
   ]
  },
  {
   "cell_type": "code",
   "execution_count": 210,
   "metadata": {
    "collapsed": true
   },
   "outputs": [],
   "source": [
    "dst = cv2.add(port_bg, acn_fg)\n",
    "\n",
    "portrait[0:acn_resized_row, 0: acn_resized_col] = dst\n",
    "\n",
    "show_image(portrait)"
   ]
  },
  {
   "cell_type": "code",
   "execution_count": 211,
   "metadata": {
    "collapsed": true
   },
   "outputs": [],
   "source": [
    "def save_image(name, img):\n",
    "    cv2.imwrite(name, img)"
   ]
  },
  {
   "cell_type": "code",
   "execution_count": 212,
   "metadata": {},
   "outputs": [
    {
     "name": "stdout",
     "output_type": "stream",
     "text": [
      "uint8\n"
     ]
    }
   ],
   "source": [
    "save_image(\"haha.jpg\",portrait)\n",
    "print(portrait.dtype)"
   ]
  },
  {
   "cell_type": "code",
   "execution_count": 221,
   "metadata": {
    "collapsed": true
   },
   "outputs": [],
   "source": [
    "def show_webcam():\n",
    "    cap = cv2.VideoCapture(0)\n",
    "    while True:\n",
    "        _, frame = cap.read()\n",
    "        roi = frame[0:acn_resized_row, 0:acn_resized_col]\n",
    "\n",
    "        frame_bg = cv2.bitwise_and(roi, roi, mask=acn_inv)\n",
    "\n",
    "        dst = cv2.add(frame_bg, acn_fg)\n",
    "\n",
    "        frame[0:acn_resized_row, 0: acn_resized_col] = dst\n",
    "        \n",
    "        cv2.imshow('webcam', frame)\n",
    "        if cv2.waitKey(1) == 27:\n",
    "            print(frame.dtype)\n",
    "            break\n",
    "    cap.release()\n",
    "    cv2.destroyAllWindows()"
   ]
  },
  {
   "cell_type": "code",
   "execution_count": 222,
   "metadata": {},
   "outputs": [
    {
     "name": "stdout",
     "output_type": "stream",
     "text": [
      "uint8\n"
     ]
    }
   ],
   "source": [
    "show_webcam()"
   ]
  },
  {
   "cell_type": "code",
   "execution_count": null,
   "metadata": {
    "collapsed": true
   },
   "outputs": [],
   "source": []
  }
 ],
 "metadata": {
  "kernelspec": {
   "display_name": "Python 3",
   "language": "python",
   "name": "python3"
  },
  "language_info": {
   "codemirror_mode": {
    "name": "ipython",
    "version": 3
   },
   "file_extension": ".py",
   "mimetype": "text/x-python",
   "name": "python",
   "nbconvert_exporter": "python",
   "pygments_lexer": "ipython3",
   "version": "3.6.3"
  }
 },
 "nbformat": 4,
 "nbformat_minor": 2
}
