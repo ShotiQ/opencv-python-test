{
 "cells": [
  {
   "cell_type": "code",
   "execution_count": 105,
   "metadata": {},
   "outputs": [],
   "source": [
    "import cv2\n",
    "import numpy as np\n",
    "import matplotlib.pyplot as plt\n",
    "from sklearn.decomposition import PCA"
   ]
  },
  {
   "cell_type": "code",
   "execution_count": 102,
   "metadata": {},
   "outputs": [
    {
     "name": "stdout",
     "output_type": "stream",
     "text": [
      "Accuracy: 91.64\n"
     ]
    }
   ],
   "source": [
    "# KNN Mnist Digits\n",
    "mnist = cv2.imread('../datasets/digits.png', 0)\n",
    "mnist.shape\n",
    "\n",
    "images = np.array([np.hsplit(row, 100)\n",
    "          for row in\n",
    "          np.vsplit(mnist, 50)], dtype= np.float32)\n",
    "\n",
    "images.shape\n",
    "\n",
    "#split to train and test\n",
    "\n",
    "train_features = images[:, :50].reshape(-1, (20 * 20))\n",
    "test_features = images[:, 50:100].reshape(-1, (20 * 20))\n",
    "\n",
    "# create labes\n",
    "\n",
    "k = np.arange(10)\n",
    "\n",
    "train_labels = np.repeat(k, 250). reshape(-1, 1)\n",
    "test_labels = train_labels.copy()\n",
    "\n",
    "knn = cv2.ml.KNearest_create()\n",
    "\n",
    "knn.train(train_features, cv2.ml.ROW_SAMPLE, train_labels)\n",
    "\n",
    "ret, result, neighbors, dist = knn.findNearest(test_features, 3)\n",
    "\n",
    "matches = np.equal(result, test_labels)\n",
    "matches = matches.astype(np.int)\n",
    "correct = np.count_nonzero(matches)\n",
    "accuracy = (correct *100.00)/result.size\n",
    "\n",
    "print('Accuracy: {}'.format(accuracy))"
   ]
  },
  {
   "cell_type": "code",
   "execution_count": 103,
   "metadata": {
    "scrolled": true
   },
   "outputs": [
    {
     "name": "stdout",
     "output_type": "stream",
     "text": [
      "Accuracy: 71.55555555555556\n"
     ]
    },
    {
     "data": {
      "image/png": "[encoded data removed]",
      "text/plain": [
       "<matplotlib.figure.Figure at 0x23ab6dfd748>"
      ]
     },
     "metadata": {},
     "output_type": "display_data"
    }
   ],
   "source": [
    "fashion_dataset =  cv2.imread('../datasets/fashion.png', 0)\n",
    "\n",
    "fashion_images = np.array([np.hsplit(row, 30)\n",
    "          for row in\n",
    "          np.vsplit(fashion_dataset, 30)], dtype= np.float32)\n",
    "fashion_images.shape\n",
    "\n",
    "#split to train and test\n",
    "\n",
    "fashion_train_features = fashion_images[:, :15].reshape(-1, (28 * 28))\n",
    "\n",
    "fashion_test_features = fashion_images[:, 15:30].reshape(-1, (28 * 28))\n",
    "\n",
    "# create labes\n",
    "\n",
    "k = np.arange(10)\n",
    "fashion_train_labels = np.repeat(k, 45). reshape(-1, 1)\n",
    "fashion_test_labels = fashion_train_labels.copy()\n",
    "\n",
    "knn2 = cv2.ml.KNearest_create()\n",
    "\n",
    "knn2.train(fashion_train_features, cv2.ml.ROW_SAMPLE, fashion_train_labels)\n",
    "\n",
    "ret, result, neighbors, dist = knn2.findNearest(fashion_test_features, 6)\n",
    "\n",
    "matches = np.equal(result, fashion_test_labels)\n",
    "matches = matches.astype(np.int)\n",
    "correct = np.count_nonzero(matches)\n",
    "accuracy = (correct *100.00)/result.size\n",
    "\n",
    "print('Accuracy: {}'.format(accuracy))\n",
    "\n",
    "\n",
    "plt.imshow(fashion_images[0,0], cmap=\"gray\")\n",
    "plt.show()"
   ]
  },
  {
   "cell_type": "code",
   "execution_count": 123,
   "metadata": {},
   "outputs": [
    {
     "data": {
      "text/plain": [
       "90.44"
      ]
     },
     "execution_count": 123,
     "metadata": {},
     "output_type": "execute_result"
    }
   ],
   "source": [
    "# SVM\n",
    "mnist = cv2.imread('../datasets/digits.png', 0)\n",
    "\n",
    "images = np.array([np.hsplit(row, 100)\n",
    "          for row in\n",
    "          np.vsplit(mnist, 50)], dtype= np.float32)\n",
    "\n",
    "#split to train and test\n",
    "train_features = images[:, :50].reshape(-1, (20 * 20))\n",
    "test_features = images[:, 50:100].reshape(-1, (20 * 20))\n",
    "\n",
    "# create labels\n",
    "k = np.arange(10)\n",
    "train_labels = np.repeat(k, 250). reshape(-1, 1)\n",
    "test_labels = train_labels.copy()\n",
    "\n",
    "model = cv2.ml.SVM_create()\n",
    "\n",
    "model.setKernel(cv2.ml.SVM_LINEAR)\n",
    "model.setC(2.67)\n",
    "model.setGamma(5.383)\n",
    "model.setType(cv2.ml.SVM_C_SVC)\n",
    "\n",
    "model.train(train_features, cv2.ml.ROW_SAMPLE, train_labels)\n",
    "\n",
    "result = model.predict(test_features)\n",
    "\n",
    "matches = np.equal(result[1], test_labels)\n",
    "matches = matches.astype(np.int)\n",
    "correct = np.count_nonzero(matches)\n",
    "accuracy = (correct *100.00)/result[1].size\n",
    "accuracy"
   ]
  },
  {
   "cell_type": "code",
   "execution_count": 101,
   "metadata": {},
   "outputs": [
    {
     "data": {
      "text/plain": [
       "56.44444444444444"
      ]
     },
     "execution_count": 101,
     "metadata": {},
     "output_type": "execute_result"
    }
   ],
   "source": [
    "# SVM FASHION\n",
    "fashion_dataset =  cv2.imread('../datasets/fashion.png', 0)\n",
    "fashion_images = np.array([np.hsplit(row, 30)\n",
    "          for row in\n",
    "          np.vsplit(fashion_dataset, 30)], dtype= np.float32)\n",
    "fashion_images.shape\n",
    "\n",
    "#split to train and test\n",
    "fashion_train_features = fashion_images[:, :15].reshape(-1, (28 * 28))\n",
    "fashion_test_features = fashion_images[:, 15:30].reshape(-1, (28 * 28))\n",
    "\n",
    "# mean normalization\n",
    "fashion_train_features -= np.mean(fashion_train_features, axis = 0)\n",
    "fashion_test_features -= np.mean(fashion_train_features, axis = 0)\n",
    "\n",
    "k = np.arange(10)\n",
    "fashion_train_labels = np.repeat(k, 45). reshape(-1, 1)\n",
    "fashion_test_labels = fashion_train_labels.copy()\n",
    "\n",
    "model = cv2.ml.SVM_create()\n",
    "\n",
    "model.setKernel(cv2.ml.SVM_LINEAR)\n",
    "model.setC(2.67)\n",
    "model.setGamma(5.383)\n",
    "model.setType(cv2.ml.SVM_C_SVC)\n",
    "\n",
    "model.train(fashion_train_features, cv2.ml.ROW_SAMPLE, fashion_train_labels)\n",
    "\n",
    "result = model.predict(fashion_test_features)\n",
    "\n",
    "matches = np.equal(result[1], fashion_test_labels)\n",
    "matches = matches.astype(np.int)\n",
    "correct = np.count_nonzero(matches)\n",
    "accuracy = (correct *100.00)/result[1].size\n",
    "accuracy"
   ]
  },
  {
   "cell_type": "markdown",
   "metadata": {},
   "source": [
    "# Principal Component Analysis\n",
    "\n"
   ]
  },
  {
   "cell_type": "code",
   "execution_count": 116,
   "metadata": {},
   "outputs": [
    {
     "data": {
      "image/png": "[encoded data removed]",
      "text/plain": [
       "<matplotlib.figure.Figure at 0x23ab3f7add8>"
      ]
     },
     "metadata": {},
     "output_type": "display_data"
    },
    {
     "name": "stdout",
     "output_type": "stream",
     "text": [
      "Shape: (2500, 400)\n",
      "Accuracy: 92.2\n"
     ]
    }
   ],
   "source": [
    "# KNN Mnist Digits\n",
    "mnist = cv2.imread('../datasets/digits.png', 0)\n",
    "mnist.shape\n",
    "\n",
    "images = np.array([np.hsplit(row, 100)\n",
    "          for row in\n",
    "          np.vsplit(mnist, 50)], dtype= np.float32)\n",
    "\n",
    "images.shape\n",
    "\n",
    "#split to train and test\n",
    "\n",
    "train_features = images[:, :50].reshape(-1, (20 * 20))\n",
    "test_features = images[:, 50:100].reshape(-1, (20 * 20))\n",
    "\n",
    "\n",
    "images = features.reshape(-1, (20 *20))\n",
    "pca = PCA(n_components = images.shape[1])\n",
    "\n",
    "pca = PCA(n_components=100)\n",
    "\n",
    "pca.fit(train_features)\n",
    "\n",
    "plt.plot(np.cumsum(pca.explained_variance_ratio_))\n",
    "plt.xlabel('Number of components')\n",
    "plt.ylabel('Cumulative explained variance')\n",
    "plt.show()\n",
    "print('Shape: {}'.format(train_features.shape))\n",
    "\n",
    "train_features = pca.transform(train_features)\n",
    "test_features = pca.transform(test_features)\n",
    "print('Shape: {}'.format(train_features.shape))\n",
    "\n",
    "\n",
    "# create labes\n",
    "k = np.arange(10)\n",
    "\n",
    "train_labels = np.repeat(k, 250). reshape(-1, 1)\n",
    "test_labels = train_labels.copy()\n",
    "\n",
    "knn = cv2.ml.KNearest_create()\n",
    "\n",
    "knn.train(train_features, cv2.ml.ROW_SAMPLE, train_labels)\n",
    "\n",
    "ret, result, neighbors, dist = knn.findNearest(test_features, 3)\n",
    "\n",
    "matches = np.equal(result, test_labels)\n",
    "matches = matches.astype(np.int)\n",
    "correct = np.count_nonzero(matches)\n",
    "accuracy = (correct *100.00)/result.size\n",
    "\n",
    "print('Accuracy: {}'.format(accuracy))\n"
   ]
  },
  {
   "cell_type": "code",
   "execution_count": 117,
   "metadata": {},
   "outputs": [
    {
     "data": {
      "image/png": "[encoded data removed]",
      "text/plain": [
       "<matplotlib.figure.Figure at 0x23ab4a030b8>"
      ]
     },
     "metadata": {},
     "output_type": "display_data"
    },
    {
     "name": "stdout",
     "output_type": "stream",
     "text": [
      "Shape: (450, 784)\n",
      "Shape: (450, 100)\n",
      "Accuracy: 71.33333333333333\n"
     ]
    },
    {
     "data": {
      "image/png": "[encoded data removed]",
      "text/plain": [
       "<matplotlib.figure.Figure at 0x23ab4a03128>"
      ]
     },
     "metadata": {},
     "output_type": "display_data"
    }
   ],
   "source": [
    "# KNN Fashion\n",
    "\n",
    "fashion_dataset =  cv2.imread('../datasets/fashion.png', 0)\n",
    "\n",
    "fashion_images = np.array([np.hsplit(row, 30)\n",
    "          for row in\n",
    "          np.vsplit(fashion_dataset, 30)], dtype= np.float32)\n",
    "fashion_images.shape\n",
    "\n",
    "#split to train and test\n",
    "\n",
    "fashion_train_features = fashion_images[:, :15].reshape(-1, (28 * 28))\n",
    "fashion_test_features = fashion_images[:, 15:30].reshape(-1, (28 * 28))\n",
    "\n",
    "# PCA\n",
    "pca = PCA(n_components = fashion_images.shape[1])\n",
    "\n",
    "pca = PCA(n_components=100)\n",
    "\n",
    "pca.fit(fashion_train_features)\n",
    "\n",
    "plt.plot(np.cumsum(pca.explained_variance_ratio_))\n",
    "plt.xlabel('Number of components')\n",
    "plt.ylabel('Cumulative explained variance')\n",
    "plt.show()\n",
    "print('Shape: {}'.format(fashion_train_features.shape))\n",
    "\n",
    "fashion_train_features = pca.transform(fashion_train_features)\n",
    "fashion_test_features = pca.transform(fashion_test_features)\n",
    "print('Shape after: {}'.format(fashion_train_features.shape))\n",
    "\n",
    "# create labes\n",
    "\n",
    "k = np.arange(10)\n",
    "fashion_train_labels = np.repeat(k, 45). reshape(-1, 1)\n",
    "fashion_test_labels = fashion_train_labels.copy()\n",
    "\n",
    "knn2 = cv2.ml.KNearest_create()\n",
    "\n",
    "knn2.train(fashion_train_features, cv2.ml.ROW_SAMPLE, fashion_train_labels)\n",
    "\n",
    "ret, result, neighbors, dist = knn2.findNearest(fashion_test_features, 6)\n",
    "\n",
    "matches = np.equal(result, fashion_test_labels)\n",
    "matches = matches.astype(np.int)\n",
    "correct = np.count_nonzero(matches)\n",
    "accuracy = (correct *100.00)/result.size\n",
    "\n",
    "print('Accuracy: {}'.format(accuracy))\n",
    "\n",
    "\n",
    "plt.imshow(fashion_images[0,0], cmap=\"gray\")\n",
    "plt.show()"
   ]
  },
  {
   "cell_type": "code",
   "execution_count": 124,
   "metadata": {},
   "outputs": [
    {
     "data": {
      "image/png": "[encoded data removed]",
      "text/plain": [
       "<matplotlib.figure.Figure at 0x23ab46307f0>"
      ]
     },
     "metadata": {},
     "output_type": "display_data"
    },
    {
     "name": "stdout",
     "output_type": "stream",
     "text": [
      "Shape: (2500, 400)\n",
      "Shape: (2500, 100)\n"
     ]
    },
    {
     "data": {
      "text/plain": [
       "89.44"
      ]
     },
     "execution_count": 124,
     "metadata": {},
     "output_type": "execute_result"
    }
   ],
   "source": [
    "# SVM Digits\n",
    "mnist = cv2.imread('../datasets/digits.png', 0)\n",
    "\n",
    "images = np.array([np.hsplit(row, 100)\n",
    "          for row in\n",
    "          np.vsplit(mnist, 50)], dtype= np.float32)\n",
    "\n",
    "#split to train and test\n",
    "train_features = images[:, :50].reshape(-1, (20 * 20))\n",
    "test_features = images[:, 50:100].reshape(-1, (20 * 20))\n",
    "\n",
    "# create labels\n",
    "k = np.arange(10)\n",
    "train_labels = np.repeat(k, 250). reshape(-1, 1)\n",
    "test_labels = train_labels.copy()\n",
    "\n",
    "\n",
    "images = features.reshape(-1, (20 *20))\n",
    "pca = PCA(n_components = images.shape[1])\n",
    "\n",
    "pca = PCA(n_components=100)\n",
    "\n",
    "pca.fit(train_features)\n",
    "\n",
    "plt.plot(np.cumsum(pca.explained_variance_ratio_))\n",
    "plt.xlabel('Number of components')\n",
    "plt.ylabel('Cumulative explained variance')\n",
    "plt.show()\n",
    "print('Shape: {}'.format(train_features.shape))\n",
    "\n",
    "train_features = pca.transform(train_features)\n",
    "test_features = pca.transform(test_features)\n",
    "print('Shape: {}'.format(train_features.shape))\n",
    "\n",
    "model = cv2.ml.SVM_create()\n",
    "\n",
    "model.setKernel(cv2.ml.SVM_LINEAR)\n",
    "model.setC(2.67)\n",
    "model.setGamma(5.383)\n",
    "model.setType(cv2.ml.SVM_C_SVC)\n",
    "\n",
    "model.train(train_features, cv2.ml.ROW_SAMPLE, train_labels)\n",
    "\n",
    "result = model.predict(test_features)\n",
    "\n",
    "matches = np.equal(result[1], test_labels)\n",
    "matches = matches.astype(np.int)\n",
    "correct = np.count_nonzero(matches)\n",
    "accuracy = (correct *100.00)/result[1].size\n",
    "accuracy\n"
   ]
  },
  {
   "cell_type": "code",
   "execution_count": 118,
   "metadata": {},
   "outputs": [
    {
     "data": {
      "image/png": "[encoded data removed]",
      "text/plain": [
       "<matplotlib.figure.Figure at 0x23ab3f85e48>"
      ]
     },
     "metadata": {},
     "output_type": "display_data"
    },
    {
     "name": "stdout",
     "output_type": "stream",
     "text": [
      "Shape: (450, 784)\n",
      "Shape after: (450, 100)\n"
     ]
    },
    {
     "data": {
      "text/plain": [
       "72.66666666666667"
      ]
     },
     "execution_count": 118,
     "metadata": {},
     "output_type": "execute_result"
    }
   ],
   "source": [
    "# SVM FASHION\n",
    "fashion_dataset =  cv2.imread('../datasets/fashion.png', 0)\n",
    "fashion_images = np.array([np.hsplit(row, 30)\n",
    "          for row in\n",
    "          np.vsplit(fashion_dataset, 30)], dtype= np.float32)\n",
    "fashion_images.shape\n",
    "\n",
    "#split to train and test\n",
    "\n",
    "\n",
    "\n",
    "fashion_train_features = fashion_images[:, :15].reshape(-1, (28 * 28))\n",
    "fashion_test_features = fashion_images[:, 15:30].reshape(-1, (28 * 28))\n",
    "\n",
    "pca = PCA(n_components = fashion_images.shape[1])\n",
    "\n",
    "pca = PCA(n_components=100)\n",
    "\n",
    "pca.fit(fashion_train_features)\n",
    "\n",
    "plt.plot(np.cumsum(pca.explained_variance_ratio_))\n",
    "plt.xlabel('Number of components')\n",
    "plt.ylabel('Cumulative explained variance')\n",
    "plt.show()\n",
    "print('Shape: {}'.format(fashion_train_features.shape))\n",
    "\n",
    "fashion_train_features = pca.transform(fashion_train_features)\n",
    "fashion_test_features = pca.transform(fashion_test_features)\n",
    "print('Shape after: {}'.format(fashion_train_features.shape))\n",
    "\n",
    "# mean normalization\n",
    "# fashion_train_features -= np.mean(fashion_train_features, axis = 0)\n",
    "# fashion_test_features -= np.mean(fashion_train_features, axis = 0)\n",
    "\n",
    "k = np.arange(10)\n",
    "fashion_train_labels = np.repeat(k, 45). reshape(-1, 1)\n",
    "fashion_test_labels = fashion_train_labels.copy()\n",
    "\n",
    "model = cv2.ml.SVM_create()\n",
    "\n",
    "model.setKernel(cv2.ml.SVM_LINEAR)\n",
    "model.setC(2.67)\n",
    "model.setGamma(5.383)\n",
    "model.setType(cv2.ml.SVM_C_SVC)\n",
    "\n",
    "model.train(fashion_train_features, cv2.ml.ROW_SAMPLE, fashion_train_labels)\n",
    "\n",
    "result =model.predict(fashion_test_features)\n",
    "\n",
    "matches = np.equal(result[1], fashion_test_labels)\n",
    "matches = matches.astype(np.int)\n",
    "correct = np.count_nonzero(matches)\n",
    "accuracy = (correct *100.00)/result[1].size\n",
    "accuracy"
   ]
  },
  {
   "cell_type": "code",
   "execution_count": null,
   "metadata": {
    "collapsed": true
   },
   "outputs": [],
   "source": []
  }
 ],
 "metadata": {
  "kernelspec": {
   "display_name": "Python 3",
   "language": "python",
   "name": "python3"
  },
  "language_info": {
   "codemirror_mode": {
    "name": "ipython",
    "version": 3
   },
   "file_extension": ".py",
   "mimetype": "text/x-python",
   "name": "python",
   "nbconvert_exporter": "python",
   "pygments_lexer": "ipython3",
   "version": "3.6.3"
  }
 },
 "nbformat": 4,
 "nbformat_minor": 2
}
